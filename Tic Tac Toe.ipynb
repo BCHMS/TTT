{
 "cells": [
  {
   "cell_type": "code",
   "execution_count": 22,
   "id": "7a13bce6",
   "metadata": {
    "scrolled": true
   },
   "outputs": [],
   "source": [
    "def TTT():\n",
    "    cells_available = {\"1\":\"1\",\"2\":\"2\",\"3\":\"3\",\"4\":\"4\",\"5\":\"5\",\"6\":\"6\",\"7\":\"7\",\"8\":\"8\",\"9\":\"9\"} #dictionay to store the inputs\n",
    "    turn_count = 0\n",
    "    \n",
    "\n",
    "    def board(): #print functions to output the board, does not need changing as changes are made in the dictionary\n",
    "        print (\"╔═══════════╗\")\n",
    "        print (f\"║\",cells_available[\"1\"],\"│\",cells_available[\"2\"],\"│\",cells_available[\"3\"],\"║\") \n",
    "        print (\"║───┼───┼───║\") \n",
    "        print (f\"║\",cells_available[\"4\"],\"│\",cells_available[\"5\"],\"│\",cells_available[\"6\"],\"║\") \n",
    "        print (\"║───┼───┼───║\")\n",
    "        print (f\"║\",cells_available[\"7\"],\"│\",cells_available[\"8\"],\"│\",cells_available[\"9\"],\"║\") \n",
    "        print (\"╚═══════════╝\") \n",
    "    \n",
    "    def game_end():\n",
    "        print (\"The game is over\")\n",
    "        board()\n",
    "    \n",
    "    def player_one():\n",
    "        #facilitates user input, set to 10 so int check can return false\n",
    "        player_one_input = \"10\"\n",
    "        if turn_count == 9:\n",
    "            print (\"No more turns\")\n",
    "            game_end()\n",
    "\n",
    "        #will continually re-ask for input until user gives a valid position, printing the board each time.\n",
    "        while ((1 > int(player_one_input)) or (int(player_one_input) > 9)):\n",
    "            player_one_input = input(\"Please select which cell to change\")\n",
    "        if cells_available[player_one_input] == player_one_input:#will reject input if it is already played\n",
    "            cells_available[player_one_input] = \"X\" #places an x into the players chosen tile\n",
    "            board()\n",
    "        else:\n",
    "            print (\"This cell has already been played, please select another\")\n",
    "            board()\n",
    "        player_one_input = \"10\"\n",
    "        turn_count += 1\n",
    "        print (turn_count)\n",
    "        player_two()\n",
    "\n",
    "        \n",
    "    def player_two():\n",
    "        #facilitates user input, set to 10 so int check can return false\n",
    "        player_two_input = \"10\"\n",
    "        if turn_count == 9:\n",
    "            print (\"No more turns\")\n",
    "            game_end()\n",
    "\n",
    "        #will continually re-ask for input until user gives a valid position, printing the board each time.\n",
    "        while ((1 > int(player_two_input)) or (int(player_two_input) > 9)):\n",
    "            player_two_input = input(\"Please select which cell to change\")\n",
    "        if cells_available[player_two_input] == player_two_input:#will reject input if it is already played\n",
    "            cells_available[player_two_input] = \"O\"\n",
    "            board()\n",
    "        else:\n",
    "            print (\"This cell has already been played, please select another\")\n",
    "            board()\n",
    "        player_two_input = \"10\"\n",
    "        turn_count += 1\n",
    "        print (turn_count)\n",
    "        player_one()\n",
    "    \n",
    "    board()       \n",
    "    player_one()\n",
    "#if userinput in rows then change value into either x or o\n",
    "#take it in turns"
   ]
  },
  {
   "cell_type": "code",
   "execution_count": 23,
   "id": "11000af7",
   "metadata": {},
   "outputs": [
    {
     "name": "stdout",
     "output_type": "stream",
     "text": [
      "╔═══════════╗\n",
      "║ 1 │ 2 │ 3 ║\n",
      "║───┼───┼───║\n",
      "║ 4 │ 5 │ 6 ║\n",
      "║───┼───┼───║\n",
      "║ 7 │ 8 │ 9 ║\n",
      "╚═══════════╝\n"
     ]
    },
    {
     "ename": "UnboundLocalError",
     "evalue": "local variable 'turn_count' referenced before assignment",
     "output_type": "error",
     "traceback": [
      "\u001b[1;31m---------------------------------------------------------------------------\u001b[0m",
      "\u001b[1;31mUnboundLocalError\u001b[0m                         Traceback (most recent call last)",
      "\u001b[1;32m~\\AppData\\Local\\Temp\\ipykernel_17052\\1719701876.py\u001b[0m in \u001b[0;36m<module>\u001b[1;34m\u001b[0m\n\u001b[1;32m----> 1\u001b[1;33m \u001b[0mTTT\u001b[0m\u001b[1;33m(\u001b[0m\u001b[1;33m)\u001b[0m\u001b[1;33m\u001b[0m\u001b[1;33m\u001b[0m\u001b[0m\n\u001b[0m",
      "\u001b[1;32m~\\AppData\\Local\\Temp\\ipykernel_17052\\1098627750.py\u001b[0m in \u001b[0;36mTTT\u001b[1;34m()\u001b[0m\n\u001b[0;32m     61\u001b[0m \u001b[1;33m\u001b[0m\u001b[0m\n\u001b[0;32m     62\u001b[0m     \u001b[0mboard\u001b[0m\u001b[1;33m(\u001b[0m\u001b[1;33m)\u001b[0m\u001b[1;33m\u001b[0m\u001b[1;33m\u001b[0m\u001b[0m\n\u001b[1;32m---> 63\u001b[1;33m     \u001b[0mplayer_one\u001b[0m\u001b[1;33m(\u001b[0m\u001b[1;33m)\u001b[0m\u001b[1;33m\u001b[0m\u001b[1;33m\u001b[0m\u001b[0m\n\u001b[0m\u001b[0;32m     64\u001b[0m \u001b[1;31m#if userinput in rows then change value into either x or o\u001b[0m\u001b[1;33m\u001b[0m\u001b[1;33m\u001b[0m\u001b[0m\n\u001b[0;32m     65\u001b[0m \u001b[1;31m#take it in turns\u001b[0m\u001b[1;33m\u001b[0m\u001b[1;33m\u001b[0m\u001b[0m\n",
      "\u001b[1;32m~\\AppData\\Local\\Temp\\ipykernel_17052\\1098627750.py\u001b[0m in \u001b[0;36mplayer_one\u001b[1;34m()\u001b[0m\n\u001b[0;32m     20\u001b[0m         \u001b[1;31m#facilitates user input, set to 10 so int check can return false\u001b[0m\u001b[1;33m\u001b[0m\u001b[1;33m\u001b[0m\u001b[0m\n\u001b[0;32m     21\u001b[0m         \u001b[0mplayer_one_input\u001b[0m \u001b[1;33m=\u001b[0m \u001b[1;34m\"10\"\u001b[0m\u001b[1;33m\u001b[0m\u001b[1;33m\u001b[0m\u001b[0m\n\u001b[1;32m---> 22\u001b[1;33m         \u001b[1;32mif\u001b[0m \u001b[0mturn_count\u001b[0m \u001b[1;33m==\u001b[0m \u001b[1;36m9\u001b[0m\u001b[1;33m:\u001b[0m\u001b[1;33m\u001b[0m\u001b[1;33m\u001b[0m\u001b[0m\n\u001b[0m\u001b[0;32m     23\u001b[0m             \u001b[0mprint\u001b[0m \u001b[1;33m(\u001b[0m\u001b[1;34m\"No more turns\"\u001b[0m\u001b[1;33m)\u001b[0m\u001b[1;33m\u001b[0m\u001b[1;33m\u001b[0m\u001b[0m\n\u001b[0;32m     24\u001b[0m             \u001b[0mgame_end\u001b[0m\u001b[1;33m(\u001b[0m\u001b[1;33m)\u001b[0m\u001b[1;33m\u001b[0m\u001b[1;33m\u001b[0m\u001b[0m\n",
      "\u001b[1;31mUnboundLocalError\u001b[0m: local variable 'turn_count' referenced before assignment"
     ]
    }
   ],
   "source": [
    "TTT()"
   ]
  },
  {
   "cell_type": "code",
   "execution_count": null,
   "id": "a27981cd",
   "metadata": {},
   "outputs": [
    {
     "name": "stdout",
     "output_type": "stream",
     "text": [
      "╔═══════════╗\n",
      "║ 1 │ 2 │ 3 ║\n",
      "║───┼───┼───║\n",
      "║ 4 │ 5 │ 6 ║\n",
      "║───┼───┼───║\n",
      "║ 7 │ 8 │ 9 ║\n",
      "╚═══════════╝\n"
     ]
    }
   ],
   "source": [
    "TTT()"
   ]
  },
  {
   "cell_type": "code",
   "execution_count": null,
   "id": "22b3d6f8",
   "metadata": {},
   "outputs": [],
   "source": []
  }
 ],
 "metadata": {
  "kernelspec": {
   "display_name": "Python 3 (ipykernel)",
   "language": "python",
   "name": "python3"
  },
  "language_info": {
   "codemirror_mode": {
    "name": "ipython",
    "version": 3
   },
   "file_extension": ".py",
   "mimetype": "text/x-python",
   "name": "python",
   "nbconvert_exporter": "python",
   "pygments_lexer": "ipython3",
   "version": "3.9.13"
  }
 },
 "nbformat": 4,
 "nbformat_minor": 5
}
