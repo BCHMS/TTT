{
 "cells": [
  {
   "cell_type": "code",
   "execution_count": 33,
   "id": "7a13bce6",
   "metadata": {},
   "outputs": [
    {
     "name": "stdout",
     "output_type": "stream",
     "text": [
      "╔═══════════╗\n",
      "║ a │ b │ c ║\n",
      "║───┼───┼───║\n",
      "║ d │ e │ f ║\n",
      "║───┼───┼───║\n",
      "║ g │ h │ i ║\n",
      "╚═══════════╝\n"
     ]
    }
   ],
   "source": [
    "rows = {\"1\":\"a\",\"2\":\"b\",\"3\":\"c\",\"4\":\"d\",\"5\":\"e\",\"6\":\"f\",\"7\":\"g\",\"8\":\"h\",\"9\":\"i\"} #dictionay to store the inputs\n",
    "\n",
    "def board(): #print functions to output the board, does not need changing as changes are made in the dictionary\n",
    "    print (\"╔═══════════╗\")\n",
    "    print (f\"║\",rows[\"1\"],\"│\",rows[\"2\"],\"│\",rows[\"3\"],\"║\") \n",
    "    print (\"║───┼───┼───║\") \n",
    "    print (f\"║\",rows[\"4\"],\"│\",rows[\"5\"],\"│\",rows[\"6\"],\"║\") \n",
    "    print (\"║───┼───┼───║\")\n",
    "    print (f\"║\",rows[\"7\"],\"│\",rows[\"8\"],\"│\",rows[\"9\"],\"║\") \n",
    "    print (\"╚═══════════╝\") \n",
    "board()\n",
    "\n",
    "if userinput in rows then change value into either x or o\n",
    "take it in turns"
   ]
  }
 ],
 "metadata": {
  "kernelspec": {
   "display_name": "Python 3 (ipykernel)",
   "language": "python",
   "name": "python3"
  },
  "language_info": {
   "codemirror_mode": {
    "name": "ipython",
    "version": 3
   },
   "file_extension": ".py",
   "mimetype": "text/x-python",
   "name": "python",
   "nbconvert_exporter": "python",
   "pygments_lexer": "ipython3",
   "version": "3.9.13"
  }
 },
 "nbformat": 4,
 "nbformat_minor": 5
}
